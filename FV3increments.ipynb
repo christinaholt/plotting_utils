{
 "cells": [
  {
   "cell_type": "markdown",
   "metadata": {},
   "source": [
    "# Intro to Jupyter Notebook\n",
    "\n",
    "The information included here follows these webpages: https://realpython.com/jupyter-notebook-introduction/, https://medium.com/ibm-data-science-experience/back-to-basics-jupyter-notebooks-dfcdc19c54bc\n",
    "\n",
    "## About this Notebook\n",
    "\n",
    "### Requirements\n",
    "- Direct access to the input data\n",
    "- Jupyter notebook installed on that platform\n",
    "- Python packages:\n",
    "    - Matplotlib\n",
    "    - mpl_toolkits\n",
    "    - NetCDF4\n",
    "    - Numpy\n",
    "    \n",
    "    \n",
    "\n",
    "### Modes\n",
    "- The cells are either Python 3 code (next cell), or Markdown (this cell). \n",
    "- Modes can be in either of two modes:\n",
    "    - `EDIT`, which appears green\n",
    "    - `COMMAND`, which appears blue\n",
    "- To enter enter `EDIT` mode, hit `Enter` or double click\n",
    "- To enter `COMMAND` mode, hit `Esc` or click anywhere outside the box\n",
    "\n",
    "### Navigation\n",
    "The menus at the top of the page allow you to control the cells, run them, and manage the file. \n",
    "\n",
    "### Keyboard commands\n",
    "Many of the above navigation menus have keyboard shortcuts:\n",
    "\n",
    "- Command Mode: ESC\n",
    "- Edit Mode: ENTER\n",
    "- Run selected cell: CTRL+ENTER\n",
    "- Run cell and insert below: ALT+ENTER\n",
    "- Run cell and select below: SHIFT+ENTER\n",
    "\n",
    "From COMMAND mode:\n",
    "- Insert cell above: A\n",
    "- Insert cell below: B\n",
    "- Cut selected cells: X\n",
    "- Copy selected cells: C\n",
    "- Delete selected cell : d+d\n",
    "\n",
    "## Run the notebook\n",
    "\n",
    "To run the whole notebook, use the menu: `Kernel > Restart & Run All`, or click the \"Fast forward\" button on the top menu bar.\n",
    "\n",
    "To run (or rerun) a single cell, click on the cell and press `Shift, Enter`, or click the \"Run\" button on the top menu bar.\n",
    "    "
   ]
  },
  {
   "cell_type": "code",
   "execution_count": null,
   "metadata": {},
   "outputs": [],
   "source": [
    "import os\n",
    "\n",
    "import matplotlib.pyplot as plt\n",
    "from mpl_toolkits.basemap import Basemap\n",
    "from mpl_toolkits.basemap import shiftgrid\n",
    "import numpy as np\n",
    "import pygrib\n",
    "from netCDF4 import Dataset"
   ]
  },
  {
   "cell_type": "markdown",
   "metadata": {},
   "source": [
    "# Set up the input files on Hera\n",
    "\n",
    "Abstractions to change date and location were made, but assuming the final directory structure would remain the same."
   ]
  },
  {
   "cell_type": "code",
   "execution_count": null,
   "metadata": {},
   "outputs": [],
   "source": [
    "# Set files\n",
    "bkg_date = '2019080112'\n",
    "bkg_loc = f'/path/to/dir/data/{bkg_date}'\n",
    "bkg_dynam_nc = os.path.join(bkg_loc, 'RESTART', 'fv_core.res.tile1.nc')\n",
    "bkg_tracer_nc = os.path.join(bkg_loc, 'RESTART', 'fv_tracer.res.tile1.nc')\n",
    "bkg_sfc_nc = os.path.join(bkg_loc, 'RESTART', 'sfc_data.nc')\n",
    "bkg_map_nc = os.path.join(bkg_loc, 'grid_spec.nc')\n",
    "\n",
    "expname = 'prepbufr'\n",
    "anl_date = '2019080300'\n",
    "anl_loc = f'/path/to/dir/{anl_date}/{anl_date}.{expname}.hrrr'\n",
    "anl_dynam_nc = os.path.join(anl_loc, 'fv3_dynvars')\n",
    "anl_tracer_nc = os.path.join(anl_loc, 'fv3_tracer')\n",
    "anl_sfc_nc = os.path.join(anl_loc, 'fv3_sfcdata')\n",
    "anl_map_nc = os.path.join(anl_loc, 'fv3_grid_spec')\n",
    "\n",
    "# Load files into NetCDF Datasets\n",
    "bkg_dynam = Dataset(bkg_dynam_nc, 'r')\n",
    "bkg_tracer = Dataset(bkg_tracer_nc, 'r')\n",
    "bkg_sfc = Dataset(bkg_sfc_nc, 'r')\n",
    "bkg_map = Dataset(bkg_map_nc, 'r')\n",
    "\n",
    "anl_dynam = Dataset(anl_dynam_nc, 'r')\n",
    "anl_tracer = Dataset(anl_tracer_nc, 'r')\n",
    "anl_sfc = Dataset(anl_sfc_nc, 'r')\n",
    "anl_map = Dataset(anl_map_nc, 'r')"
   ]
  },
  {
   "cell_type": "code",
   "execution_count": null,
   "metadata": {},
   "outputs": [],
   "source": [
    "# Load latitude/longitude from background grid spec file\n",
    "grid_lon = bkg_map['grid_lon'][::]\n",
    "grid_lat = bkg_map['grid_lat'][::]"
   ]
  },
  {
   "cell_type": "code",
   "execution_count": null,
   "metadata": {},
   "outputs": [],
   "source": [
    "# var_loc is a dictionary that describes which Python variables contain the desired atmospheric variables.\n",
    "# For example, the sphum variable is found only in the tracer files, while u, v, and T are found in the dynam files.\n",
    "var_loc = {\n",
    "    'u': {\n",
    "        'anl': anl_dynam,\n",
    "        'bkg': bkg_dynam,\n",
    "    },\n",
    "    'v':  {\n",
    "        'anl': anl_dynam,\n",
    "        'bkg': bkg_dynam,\n",
    "    },\n",
    "    'T':  {\n",
    "        'anl': anl_dynam,\n",
    "        'bkg': bkg_dynam,\n",
    "    },\n",
    "    'sphum':  {\n",
    "        'anl': anl_tracer,\n",
    "        'bkg': bkg_tracer,\n",
    "    },\n",
    "}"
   ]
  },
  {
   "cell_type": "code",
   "execution_count": null,
   "metadata": {},
   "outputs": [],
   "source": [
    "def plot_data(data, lat, lon, title):\n",
    "    \n",
    "    '''\n",
    "    Input parameters:\n",
    "    \n",
    "        data: 2D Numpy array to be plotted\n",
    "        lat: 2D Numpy array of latitude\n",
    "        lon: 2D Numpy array of longitude\n",
    "        var: String describing the variable being plotted.\n",
    "        \n",
    "    Draws a Basemap representation with the contoured data overlayed, with a colorbar.\n",
    "        \n",
    "    '''\n",
    "    \n",
    "    def trim_grid():\n",
    "        '''\n",
    "        The u, v, and H data are all on grids either one column, or one row smaller than lat/lon. \n",
    "        Return the smaller lat, lon grids, given the shape of the data to be plotted.\n",
    "        '''\n",
    "        y, x = np.shape(data)\n",
    "        return lat[:y, :x], lon[:y, :x]\n",
    "    \n",
    "    m = Basemap(projection='mill', \n",
    "                llcrnrlon=lon.min()-5,\n",
    "                urcrnrlon=lon.max()+5,\n",
    "                llcrnrlat=lat.min()-5,\n",
    "                urcrnrlat=lat.max()+5,\n",
    "                resolution='c',\n",
    "               )\n",
    "\n",
    "    lat_trim, lon_trim = trim_grid()\n",
    "    plt.figure(figsize=(12,12))\n",
    "    x, y = m(lon_trim, lat_trim)\n",
    "\n",
    "    cs = m.contourf(x, y, data)\n",
    "    m.drawcoastlines();\n",
    "    m.drawmapboundary();\n",
    "    m.drawparallels(np.arange(-90.,120.,5),labels=[1,0,0,0]);\n",
    "    m.drawmeridians(np.arange(-180.,180.,5),labels=[0,0,0,1]);\n",
    "    plt.colorbar(cs,orientation='vertical', shrink=0.5);\n",
    "    plt.title(f\"{title}\")"
   ]
  },
  {
   "cell_type": "markdown",
   "metadata": {},
   "source": [
    "# Plot the variables\n",
    "\n",
    "Loop through each of the variables contained in the keys of `var_loc`, get the data from the appropriate Python variable, and plot the results."
   ]
  },
  {
   "cell_type": "code",
   "execution_count": null,
   "metadata": {},
   "outputs": [],
   "source": [
    "for var in var_loc.keys():\n",
    "    lev = 0   # Change this variable to look at different vertical levels.\n",
    "    anl, bkg = [var_loc[var][stage][var][::] for stage in ['anl', 'bkg']]\n",
    "    title = f'Analysis Increment for {var}'\n",
    "    plot_data(np.squeeze(anl)[lev, :, :]-np.squeeze(bkg)[lev, :, :], grid_lat, grid_lon, title)\n"
   ]
  },
  {
   "cell_type": "markdown",
   "metadata": {},
   "source": [
    "# Explore the data"
   ]
  },
  {
   "cell_type": "code",
   "execution_count": null,
   "metadata": {},
   "outputs": [],
   "source": [
    "# Print just the variable names:\n",
    "print('Dynamics variables include')\n",
    "for var in anl_dynam.variables:\n",
    "    print(var)"
   ]
  },
  {
   "cell_type": "code",
   "execution_count": null,
   "metadata": {},
   "outputs": [],
   "source": [
    "# Print more information about the variables\n",
    "print('Dynamics file contains: ')\n",
    "for var, info in anl_dynam.variables.items():\n",
    "    print(var, '------------\\n', info)\n",
    "    "
   ]
  },
  {
   "cell_type": "code",
   "execution_count": null,
   "metadata": {},
   "outputs": [],
   "source": [
    "# Access the data in a variable\n",
    "u = anl_dynam['u'][::]\n",
    "u\n"
   ]
  },
  {
   "cell_type": "code",
   "execution_count": null,
   "metadata": {},
   "outputs": [],
   "source": [
    "# What is the size of the data?\n",
    "np.shape(u)"
   ]
  },
  {
   "cell_type": "code",
   "execution_count": null,
   "metadata": {},
   "outputs": [],
   "source": []
  }
 ],
 "metadata": {
  "kernelspec": {
   "display_name": "Python 3",
   "language": "python",
   "name": "python3"
  },
  "language_info": {
   "codemirror_mode": {
    "name": "ipython",
    "version": 3
   },
   "file_extension": ".py",
   "mimetype": "text/x-python",
   "name": "python",
   "nbconvert_exporter": "python",
   "pygments_lexer": "ipython3",
   "version": "3.7.3"
  }
 },
 "nbformat": 4,
 "nbformat_minor": 2
}
